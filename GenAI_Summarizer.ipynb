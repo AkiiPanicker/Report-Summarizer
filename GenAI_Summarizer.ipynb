{
  "nbformat": 4,
  "nbformat_minor": 0,
  "metadata": {
    "colab": {
      "provenance": []
    },
    "kernelspec": {
      "name": "python3",
      "display_name": "Python 3"
    },
    "language_info": {
      "name": "python"
    }
  },
  "cells": [
    {
      "cell_type": "markdown",
      "source": [
        "# **Financial Docu Summarizer**"
      ],
      "metadata": {
        "id": "POmL-GvIbMfi"
      }
    },
    {
      "cell_type": "markdown",
      "source": [
        "## Tutorial"
      ],
      "metadata": {
        "id": "QC7jki-XlPiJ"
      }
    },
    {
      "cell_type": "markdown",
      "source": [
        "**Video Tutorials**\n",
        "1. Setup: [Tutorial_API_Key.mp4](https://csciitd-my.sharepoint.com/:v:/g/personal/ph1230116_iitd_ac_in/EWYUHVBmZ9ZNvo2f9S_6BokBkjJwuZhjdxAeXEIMPPer_A?nav=eyJyZWZlcnJhbEluZm8iOnsicmVmZXJyYWxBcHAiOiJPbmVEcml2ZUZvckJ1c2luZXNzIiwicmVmZXJyYWxBcHBQbGF0Zm9ybSI6IldlYiIsInJlZmVycmFsTW9kZSI6InZpZXciLCJyZWZlcnJhbFZpZXciOiJNeUZpbGVzTGlua0NvcHkifX0&e=D96hbu)\n",
        "2. File Upload: [Tutorial_File_Upload.mp4](https://csciitd-my.sharepoint.com/:v:/g/personal/ph1230116_iitd_ac_in/EX_DeHmvDl9KtpEC-DzMbZoB057CR4trmJh9LmQ0nNA2Ew?nav=eyJyZWZlcnJhbEluZm8iOnsicmVmZXJyYWxBcHAiOiJPbmVEcml2ZUZvckJ1c2luZXNzIiwicmVmZXJyYWxBcHBQbGF0Zm9ybSI6IldlYiIsInJlZmVycmFsTW9kZSI6InZpZXciLCJyZWZlcnJhbFZpZXciOiJNeUZpbGVzTGlua0NvcHkifX0&e=Zf7Z8d)\n",
        "3. Usage: [Tutorial_Usage.mp4](https://csciitd-my.sharepoint.com/:v:/g/personal/ph1230116_iitd_ac_in/EbRXjNUpMRlAs5qwgt5DHeMBT-Ssu8SbeiRjlNg3rqOxzA?nav=eyJyZWZlcnJhbEluZm8iOnsicmVmZXJyYWxBcHAiOiJPbmVEcml2ZUZvckJ1c2luZXNzIiwicmVmZXJyYWxBcHBQbGF0Zm9ybSI6IldlYiIsInJlZmVycmFsTW9kZSI6InZpZXciLCJyZWZlcnJhbFZpZXciOiJNeUZpbGVzTGlua0NvcHkifX0&e=6Rx0lF)\n",
        "\n",
        "---\n",
        "\n",
        "**Setup**\n",
        "1. Go to [Google AI Studio](https://aistudio.google.com/app/apikey/) and click the button labelled \"Create API key\"\n",
        "2. Select any option in the \"Search Google Cloud Projects\" box, the API key will now be visible on the page in a table\n",
        "2. Copy the API key (from the API key column), you may close the AI studio tab now\n",
        "3. Click the key icon in the left sidebar (labelled secrets), and click \"+ Add New Secret\"\n",
        "4. Name it `GOOGLE_API_KEY` (left textbox) and paste your API key in the Value/right textbox\n",
        "5. Make sure to check the \"Notebook Access\" radio button (left of the Name field)\n",
        "\n",
        "The aforementioned steps are one-time, once set-up, you may simply skip it 2nd time onwards.\n",
        "\n",
        "---\n",
        "\n",
        "**File Upload**\n",
        "1. Click the file folder in the left sidebar (below the key/secrets icon)\n",
        "2. Click the upload file button (left-most icon in the menu bar of the newly opened \"Files\" tab) (If you have a URL, save the PDF to your device first)\n",
        "3. Select & upload the file from the file explorer pop-up menu\n",
        "4. After the file uploads (may take several seconds), right click it in the Files tab and rename it to `report.pdf` (if you don't see the PDF, click the refresh button, right of the Upload File button)\n",
        "\n",
        "---\n",
        "\n",
        "**Usage**\n",
        "1. In the menu bar, under the Runtime menu, click \"Run All\" (or just press Ctrl+F9)\n",
        "2. Scroll to the bottom, the response text would be displayed under the 2nd-to-last cell (may take upto a minute to generate)\n",
        "3. Ask further questions in the input textbox visible at the end of the last cell\n",
        "4. End the conversation by inputting `QUIT` in the chat textbox\n",
        "\n",
        "---\n"
      ],
      "metadata": {
        "id": "kfKa25PwbS2u"
      }
    },
    {
      "cell_type": "markdown",
      "source": [
        "## Back-End Code\n",
        "_collapse this section or scroll past it_"
      ],
      "metadata": {
        "id": "5GPu7GFolSv2"
      }
    },
    {
      "cell_type": "code",
      "execution_count": null,
      "metadata": {
        "id": "IJDaHp2VbFXz",
        "colab": {
          "base_uri": "https://localhost:8080/"
        },
        "outputId": "93f8ad4b-c0d8-4a99-d84d-0050116c465c"
      },
      "outputs": [
        {
          "output_type": "stream",
          "name": "stdout",
          "text": [
            "Collecting PyPDF2\n",
            "  Downloading pypdf2-3.0.1-py3-none-any.whl.metadata (6.8 kB)\n",
            "Downloading pypdf2-3.0.1-py3-none-any.whl (232 kB)\n",
            "\u001b[2K   \u001b[90m━━━━━━━━━━━━━━━━━━━━━━━━━━━━━━━━━━━━━━━━\u001b[0m \u001b[32m232.6/232.6 kB\u001b[0m \u001b[31m4.4 MB/s\u001b[0m eta \u001b[36m0:00:00\u001b[0m\n",
            "\u001b[?25hInstalling collected packages: PyPDF2\n",
            "Successfully installed PyPDF2-3.0.1\n"
          ]
        }
      ],
      "source": [
        "!pip install PyPDF2"
      ]
    },
    {
      "cell_type": "code",
      "source": [
        "# Imports\n",
        "\n",
        "# PDF pre-processing\n",
        "from PyPDF2 import PdfReader as reader\n",
        "from tqdm   import tqdm\n",
        "\n",
        "# Gen AI API\n",
        "import google.generativeai as genai\n",
        "\n",
        "# Colab stuff\n",
        "from google.colab    import userdata\n",
        "from IPython.display import display, Markdown"
      ],
      "metadata": {
        "id": "6bXIzGEWwrPa"
      },
      "execution_count": null,
      "outputs": []
    },
    {
      "cell_type": "code",
      "source": [
        "# API key extraction\n",
        "api_key=userdata.get(\"GOOGLE_API_KEY\")\n",
        "genai.configure(api_key=api_key)"
      ],
      "metadata": {
        "id": "WHtMU_aZRrS-"
      },
      "execution_count": null,
      "outputs": []
    },
    {
      "cell_type": "code",
      "source": [
        "# Document reader\n",
        "def read_docu(pdf_path: str = 'report.pdf', give_token_estm: bool = True):\n",
        "    '''Converts PDF to python string\n",
        "    pdf_path : path to the PDF to be scanned\n",
        "    give_token_estm : whether to print an estimate for the token count'''\n",
        "\n",
        "    with open(pdf_path, 'rb') as pdf_file:\n",
        "        reader_obj = reader(pdf_file)\n",
        "        pages_obj  = reader_obj.pages\n",
        "\n",
        "        docu_text  = ''\n",
        "\n",
        "        for page in pages_obj:\n",
        "            docu_text += page.extract_text().strip()\n",
        "            docu_text += '\\n'\n",
        "\n",
        "    if give_token_estm:\n",
        "        word_count_estm = docu_text.count(' ') + docu_text.count('\\n') + 10\n",
        "        print(f\"Input token count estimate : {round(1.48*word_count_estm)}\\n\")\n",
        "\n",
        "    return docu_text"
      ],
      "metadata": {
        "id": "oKg62Dboxfjz"
      },
      "execution_count": null,
      "outputs": []
    },
    {
      "cell_type": "code",
      "source": [
        "# API Caller/Summarizer\n",
        "def summarize(input_text: str, ai_model: genai.GenerativeModel, give_tokens_used: bool = True):\n",
        "    '''Summarizes input_text by calling ai_model'''\n",
        "\n",
        "    summary = ai_model.generate_content(input_text)\n",
        "\n",
        "    if give_tokens_used:\n",
        "        print(f\"Tokens consumed : {summary.usage_metadata.prompt_token_count}\")\n",
        "        print(f\"Summary length  : {len(summary.text.split())} words\\n\")\n",
        "\n",
        "    return summary.text"
      ],
      "metadata": {
        "id": "RcbB7W-O2XGH"
      },
      "execution_count": null,
      "outputs": []
    },
    {
      "cell_type": "code",
      "source": [
        "# Model Config\n",
        "model_sys_prompt = '''\\\n",
        "You shall be given the transcript of a company's financial document. The document can be a third-party report, an annual company filing, or a questionnaire.\n",
        "Start with a title to your summary, followed by one line about the nature of the document.\n",
        "\n",
        "Your primary task is to summarize it, providing details about the following topics:\n",
        "1. Market Performace - Any key financial figures (eg - EBITDA, revenue, cagr, etc.)\n",
        "2. Key Charts/Tables - The important tables/graphics. Do not copy-paste the data, simply mention the heading & give a sentence about it.\n",
        "3. Company Info - Background info about the history or nature of the company. Do not give excessive technical details here.\n",
        "4. Business Model - A quick summary of the company's business model.\n",
        "5. Strategic Initiatives - Major moves that the company has made recently, or have planned.\n",
        "\n",
        "Omit sections when details pertaining to them are unavailable in the document.\n",
        "Also note that the first and last few pages might be largely irrelevant.\n",
        "\n",
        "Your secondary task is to add an \"Analysis\" section to your report with the following topics:\n",
        "1. Risk Analysis - Point out the risks with the company's strategic initiatives.\n",
        "2. Competitive Analysis - Point out how you think the company would fare in the current market (give a high level overview of the market if info unavailable).\n",
        "\n",
        "DO NOT make up information.'''\n",
        "\n",
        "model_config = genai.GenerationConfig(temperature=0.2, max_output_tokens=5000, response_mime_type='text/plain')\n",
        "\n",
        "model_name  = 'gemini-1.5-pro'"
      ],
      "metadata": {
        "id": "SV7gMh247_nC",
        "collapsed": true
      },
      "execution_count": null,
      "outputs": []
    },
    {
      "cell_type": "markdown",
      "source": [
        "## Main\n",
        "\n",
        "Comprised of 2 cells:\n",
        "- The first generates a summary of your uploaded document\n",
        "- The second allows you to further question the AI"
      ],
      "metadata": {
        "id": "bUt_zC2F70bQ"
      }
    },
    {
      "cell_type": "code",
      "source": [
        "# Summary generation\n",
        "\n",
        "# Pre-processing\n",
        "docu_text = read_docu('report.pdf')\n",
        "token_count_estm = round(1.48*(docu_text.count(' ') + docu_text.count('\\n') + 10))\n",
        "\n",
        "if token_count_estm >= 32000:\n",
        "    model_name = 'gemini-1.5-flash'\n",
        "\n",
        "\n",
        "# Model Setup\n",
        "model = genai.GenerativeModel(  model_name=f'models/{model_name}',\n",
        "                                generation_config=model_config,\n",
        "                                system_instruction=model_sys_prompt )\n",
        "\n",
        "\n",
        "# Execution\n",
        "summary = summarize(docu_text, model)\n",
        "\n",
        "display(Markdown(summary))"
      ],
      "metadata": {
        "id": "5Upm8K9E7Adh",
        "colab": {
          "base_uri": "https://localhost:8080/",
          "height": 1000
        },
        "outputId": "59eed785-bea8-4b71-b298-e96f0e5e7f08"
      },
      "execution_count": null,
      "outputs": [
        {
          "output_type": "stream",
          "name": "stdout",
          "text": [
            "Input token count estimate : 38703\n",
            "\n",
            "Tokens consumed : 36773\n",
            "Summary length  : 922 words\n",
            "\n"
          ]
        },
        {
          "output_type": "display_data",
          "data": {
            "text/plain": [
              "<IPython.core.display.Markdown object>"
            ],
            "text/markdown": "## Generative AI: Too Much Spend, Too Little Benefit?\n\nThis is a Goldman Sachs Global Investment Research report exploring the economic impact of generative AI and the potential for returns on the massive investments being made in the technology. \n\n**Market Performance:**\n\n* **AI Capex:** Tech giants and other companies are expected to spend over $1 trillion on AI capex in the coming years.\n* **Nvidia Stock:** The stock of Nvidia, the company currently reaping the most benefits from AI, has sharply corrected.\n* **Productivity & GDP Growth:** Estimates for the impact of AI on productivity and GDP growth vary widely. Goldman Sachs estimates a 9% increase in productivity and 6.1% increase in GDP over the next decade, while MIT's Daron Acemoglu forecasts a much smaller impact of 0.5% and 0.9% respectively.\n\n**Key Charts/Tables:**\n\n* **AI Adoption Rates:** Charts showing the share of US firms using AI by sector, highlighting the higher adoption rates in technology industries and other digitally-enabled fields.\n* **AI-Related Investment:** Charts showing the log index of AI-related investment in software and hardware, indicating that these investments are not yet visible in national accounts data.\n* **US Power Demand Growth:** Charts showing the projected growth in US power demand, with data centers accounting for a significant portion of the increase.\n* **EU-27 Power Demand:** Charts showing the projected growth in EU-27 power demand, with AI data centers and electrification expected to boost demand by over 40%.\n* **TSMC's CoWoS Capacity:** Chart showing the projected growth in TSMC's CoWoS capacity, indicating that the packaging bottleneck is expected to ease in the coming years.\n* **Utilities Sector PEG Ratio:** Chart showing the Utilities sector PEG ratio, which is well below its historical average.\n\n**Company Info:**\n\n* **Goldman Sachs:** A global investment banking, investment management, and brokerage firm.\n* **Nvidia:** A leading manufacturer of graphics processing units (GPUs) that are essential for AI systems.\n* **Microsoft:** A tech giant that is investing heavily in AI and cloud computing.\n* **Amazon:** A tech giant that is investing heavily in AI and cloud computing.\n* **Alphabet:** The parent company of Google, which is investing heavily in AI.\n* **Salesforce:** A cloud-based software company that is investing heavily in AI.\n* **ServiceNow:** A digital workflow software company that has reported significant efficiency gains from AI technology.\n* **Cloverleaf Infrastructure:** A company that develops strategies to help utilities unlock new grid capacity.\n* **AEP:** One of the largest US electric utility companies.\n* **EirGrid:** A state-owned power operator in Ireland.\n* **Talen Energy:** A company that operates unregulated nuclear plants.\n* **Meta:** A tech giant that is investing heavily in AI.\n* **TSMC:** A leading semiconductor manufacturer.\n* **AMD:** A leading manufacturer of CPUs and GPUs.\n\n**Business Model:**\n\n* **Goldman Sachs:** Provides investment banking, investment management, and brokerage services.\n* **Nvidia:** Manufactures GPUs that are essential for AI systems.\n* **Microsoft, Amazon, Alphabet:** Provide cloud computing services and are investing heavily in AI.\n* **Salesforce, ServiceNow:** Provide cloud-based software solutions and are incorporating AI into their products.\n* **Cloverleaf Infrastructure:** Develops strategies to help utilities unlock new grid capacity.\n* **AEP:** Provides electricity to customers in the US.\n* **EirGrid:** Operates the electricity grid in Ireland.\n* **Talen Energy:** Operates unregulated nuclear plants.\n* **Meta:** Operates social media platforms and is investing heavily in AI.\n* **TSMC:** Manufactures semiconductors.\n* **AMD:** Manufactures CPUs and GPUs.\n\n**Strategic Initiatives:**\n\n* **AI Investment:** Tech giants and other companies are investing heavily in AI infrastructure, including data centers, chips, and other AI-related technologies.\n* **Power Grid Expansion:** Utilities are investing in expanding the power grid to meet the growing demand from AI and other sources.\n* **Renewables Growth:** Europe is expected to add nearly 800 gigawatts of wind and solar power over the next 10-15 years.\n* **Electrification Compounders:** Utilities that focus on power grids and renewables are expected to benefit from the growing demand for power.\n\n**Analysis:**\n\n**Risk Analysis:**\n\n* **AI Hype:** The current enthusiasm around AI could lead to overinvestment in the technology, with some projects failing to deliver on their promises.\n* **Power Crunch:** The US power grid is not prepared for the coming surge in demand from AI and other sources, which could lead to a painful power crunch.\n* **Chip Shortages:** Shortages of key components, such as HBM and CoWoS, could constrain AI growth in the coming years.\n* **Valuation Risk:** The valuations of AI beneficiaries are already high, and any slowdown in economic growth or disappointment in AI's performance could lead to a decline in stock prices.\n\n**Competitive Analysis:**\n\n* **AI Arms Race:** Tech giants are engaged in an AI arms race, investing heavily in the technology to gain a competitive advantage.\n* **Data Center Growth:** The expansion of data centers is expected to drive significant growth in power demand, particularly in regions with cheap and abundant baseload power.\n* **Electrification:** The electrification of transportation, buildings, and other sectors is expected to further increase power demand.\n* **Utilities:** Utilities are well-positioned to benefit from the growing demand for power, but they face challenges in securing funding for grid expansion and dealing with regulatory constraints.\n\n**Overall, the report highlights the significant potential of generative AI, but also points out the risks associated with the massive investments being made in the technology. The report suggests that AI's ability to deliver on its promises will depend on a number of factors, including the development of killer applications, the ability to overcome chip shortages and power constraints, and the willingness of investors to continue supporting the AI arms race.** \n"
          },
          "metadata": {}
        }
      ]
    },
    {
      "cell_type": "code",
      "source": [
        "# Further Prompting\n",
        "\n",
        "chat_sys_prompt = (\n",
        "    'In a previous conversation, you were given a big financial document and were asked to produce a summary.'\n",
        "    ' You came up with this:\\n'\n",
        "    f'{summary}'\n",
        "    '\\nYou will now be asked follow up questions about this summary.'\n",
        "    '\\nDo not use more than 1 emoji per message.'\n",
        ")\n",
        "\n",
        "chat_model = genai.GenerativeModel( model_name='models/gemini-1.5-pro',\n",
        "                                    generation_config=model_config,\n",
        "                                    system_instruction=chat_sys_prompt  )\n",
        "\n",
        "chat = chat_model.start_chat()\n",
        "\n",
        "\n",
        "display(Markdown(\"Type `QUIT` to end the conversation\\n\"))\n",
        "display(Markdown(\"## Cross-Questioning Regarding The Generated Summary\"))\n",
        "\n",
        "print()\n",
        "msg = input('Message: ')\n",
        "\n",
        "while msg.upper() != 'QUIT':\n",
        "\n",
        "    print(\"\\nAI Response:\")\n",
        "\n",
        "    try:\n",
        "        response = chat.send_message(msg)\n",
        "    except:\n",
        "        print('The Gemini API free quota is 2 API calls/min; kindly wait a bit before sending messages.')\n",
        "        print('You may try resending your previous message.')\n",
        "\n",
        "    display(Markdown(response.text))\n",
        "    msg = input('\\nMessage: ')\n",
        "\n",
        "print(\"Conversation terminated. Re-run cell to initiate new conversation.\")"
      ],
      "metadata": {
        "id": "AbWlTthtDDcS",
        "colab": {
          "base_uri": "https://localhost:8080/",
          "height": 143
        },
        "outputId": "5dddb94c-0b59-4d2f-c5dd-a2660a0755c9"
      },
      "execution_count": null,
      "outputs": [
        {
          "output_type": "display_data",
          "data": {
            "text/plain": [
              "<IPython.core.display.Markdown object>"
            ],
            "text/markdown": "Type `QUIT` to end the conversation\n"
          },
          "metadata": {}
        },
        {
          "output_type": "display_data",
          "data": {
            "text/plain": [
              "<IPython.core.display.Markdown object>"
            ],
            "text/markdown": "## Cross-Questioning Regarding The Generated Summary"
          },
          "metadata": {}
        },
        {
          "output_type": "stream",
          "name": "stdout",
          "text": [
            "\n",
            "Message: quit\n",
            "Conversation terminated. Re-run cell to initiate new conversation.\n"
          ]
        }
      ]
    }
  ]
}